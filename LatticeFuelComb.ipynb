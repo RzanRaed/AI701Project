{
  "nbformat": 4,
  "nbformat_minor": 0,
  "metadata": {
    "colab": {
      "provenance": []
    },
    "kernelspec": {
      "name": "python3",
      "display_name": "Python 3"
    },
    "language_info": {
      "name": "python"
    }
  },
  "cells": [
    {
      "cell_type": "code",
      "execution_count": 17,
      "metadata": {
        "id": "Lz_XV7WUTMIk"
      },
      "outputs": [],
      "source": [
        "import numpy as np\n",
        "from itertools import combinations"
      ]
    },
    {
      "cell_type": "code",
      "source": [
        "Gd=[2,4,6,8,0]\n",
        "U=np.array(range(41,47,1))\n",
        "U=U/10\n",
        "##Number of Fuel Types##\n",
        "NF=len(U)*len(Gd)\n",
        "NF=np.array(range(1,NF))"
      ],
      "metadata": {
        "id": "ylKMiHwiTm6a"
      },
      "execution_count": 13,
      "outputs": []
    },
    {
      "cell_type": "code",
      "source": [
        "k=[2,3,4]\n",
        "com_tot=[]\n",
        "for j in k:\n",
        " Com = combinations(NF,j)\n",
        " Nmcom=[]\n",
        " for i in Com:\n",
        "   Nmcom.append(i)\n",
        " com_tot.append(len(Nmcom)*(j**25))\n",
        "print(\"{:e}\".format(sum(com_tot)))\n",
        "# Assumptions:\n",
        "# the result show number of arrangements for using 2 or 3 or 4 types of fuel ( we could use up to 25 fuel types btw which means every rod is unique) \n",
        "# 5 percentages of Gd\n",
        "# Range of U enrichment is 4.1 to 4.6 and step size is 0.1\n",
        "#the rods near the holes are fixed with Uranium enrichemnt 4.1 and their Gd doesnt change so they were excluded from calculation "
      ],
      "metadata": {
        "colab": {
          "base_uri": "https://localhost:8080/"
        },
        "id": "wJqEJspAVe1U",
        "outputId": "b234e9dd-0b0b-4861-a434-7abc64c6abbc"
      },
      "execution_count": 18,
      "outputs": [
        {
          "output_type": "stream",
          "name": "stdout",
          "text": [
            "2.674434e+19\n"
          ]
        }
      ]
    }
  ]
}